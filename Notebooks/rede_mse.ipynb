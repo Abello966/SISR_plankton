{
 "cells": [
  {
   "cell_type": "code",
   "execution_count": 1,
   "metadata": {},
   "outputs": [
    {
     "name": "stderr",
     "output_type": "stream",
     "text": [
      "Using TensorFlow backend.\n"
     ]
    }
   ],
   "source": [
    "import numpy as np\n",
    "import keras as kr"
   ]
  },
  {
   "cell_type": "code",
   "execution_count": 26,
   "metadata": {},
   "outputs": [],
   "source": [
    "from keras.models import Sequential\n",
    "from keras.layers import Dense, Dropout, Flatten, Activation\n",
    "from keras.layers import Conv2D, MaxPooling2D\n",
    "from keras.optimizers import Adam\n",
    "from keras.preprocessing.image import ImageDataGenerator\n",
    "from keras.callbacks import ModelCheckpoint\n",
    "from keras.callbacks import EarlyStopping\n"
   ]
  },
  {
   "cell_type": "code",
   "execution_count": 4,
   "metadata": {},
   "outputs": [],
   "source": [
    "#Loads model based on Image Super-Resolution Using Deep Convolutional Networks by Dong et al\n",
    "def DongCNN(in_shape):\n",
    "    model = Sequential()\n",
    "    \n",
    "    model.add(Conv2D(64, (9, 9), padding='same', input_shape=in_shape))\n",
    "    model.add(Activation(\"relu\"))\n",
    "    model.add(Conv2D(32, (5, 5), padding='same'))\n",
    "    model.add(Activation(\"relu\"))\n",
    "    model.add(Conv2D(1, (5,5), padding='same'))\n",
    "    \n",
    "    return model\n",
    "    "
   ]
  },
  {
   "cell_type": "code",
   "execution_count": 42,
   "metadata": {},
   "outputs": [],
   "source": [
    "#Carrega Dados\n",
    "from sklearn.model_selection import train_test_split\n",
    "dataset = np.load(\"dataset.npy\")\n",
    "X = dataset[:,1,:,:]\n",
    "Y = dataset[:,0,:,:]\n",
    "X = X.reshape(X.shape + (1,))\n",
    "Y = Y.reshape(Y.shape + (1,))\n",
    "X_train, X_test, y_train, y_test = train_test_split(X, Y, test_size=0.2, train_size=0.8)"
   ]
  },
  {
   "cell_type": "code",
   "execution_count": 43,
   "metadata": {},
   "outputs": [],
   "source": [
    "model = DongCNN(X_train[0].shape)\n",
    "opt = Adam()\n",
    "model.compile(loss='mean_squared_error', optimizer=opt, metrics=['accuracy', 'mean_squared_error'])"
   ]
  },
  {
   "cell_type": "code",
   "execution_count": 44,
   "metadata": {},
   "outputs": [
    {
     "name": "stdout",
     "output_type": "stream",
     "text": [
      "Train on 249354 samples, validate on 62339 samples\n",
      "Epoch 1/5\n",
      "249354/249354 [==============================] - 460s 2ms/step - loss: 336.9820 - acc: 0.0563 - mean_squared_error: 336.9820 - val_loss: 257.5157 - val_acc: 0.0702 - val_mean_squared_error: 257.5157\n",
      "Epoch 2/5\n",
      "249354/249354 [==============================] - 246s 986us/step - loss: 256.6143 - acc: 0.0743 - mean_squared_error: 256.6143 - val_loss: 245.9053 - val_acc: 0.1075 - val_mean_squared_error: 245.9053\n",
      "Epoch 3/5\n",
      "249354/249354 [==============================] - 251s 1ms/step - loss: 241.8349 - acc: 0.0788 - mean_squared_error: 241.8349 - val_loss: 236.2392 - val_acc: 0.1334 - val_mean_squared_error: 236.2392\n",
      "Epoch 4/5\n",
      "249354/249354 [==============================] - 242s 972us/step - loss: 236.1625 - acc: 0.0813 - mean_squared_error: 236.1625 - val_loss: 223.0607 - val_acc: 0.1220 - val_mean_squared_error: 223.0607\n",
      "Epoch 5/5\n",
      "249354/249354 [==============================] - 246s 985us/step - loss: 256.8370 - acc: 0.0761 - mean_squared_error: 256.8370 - val_loss: 236.6513 - val_acc: 0.1253 - val_mean_squared_error: 236.6513\n"
     ]
    },
    {
     "data": {
      "text/plain": [
       "<keras.callbacks.History at 0x7f255b66dc18>"
      ]
     },
     "execution_count": 44,
     "metadata": {},
     "output_type": "execute_result"
    }
   ],
   "source": [
    "model.fit(X_train, y_train, epochs=5, validation_data=(X_test, y_test), verbose=1)"
   ]
  },
  {
   "cell_type": "code",
   "execution_count": 68,
   "metadata": {},
   "outputs": [
    {
     "data": {
      "text/plain": [
       "<matplotlib.image.AxesImage at 0x7f255cf3d9b0>"
      ]
     },
     "execution_count": 68,
     "metadata": {},
     "output_type": "execute_result"
    },
    {
     "data": {
      "image/png": "[encoded data removed]",
      "text/plain": [
       "<Figure size 1080x1080 with 3 Axes>"
      ]
     },
     "metadata": {},
     "output_type": "display_data"
    }
   ],
   "source": [
    "import matplotlib.pyplot as plt\n",
    "\n",
    "ex = 9\n",
    "patch = X_test[ex]\n",
    "truth = y_test[ex]\n",
    "preds = model.predict(patch.reshape((1,) + patch.shape))[0]\n",
    "\n",
    "patch = patch.reshape(patch.shape[0:2])\n",
    "truth = truth.reshape(truth.shape[0:2])\n",
    "preds = preds.reshape(preds.shape[0:2])\n",
    "\n",
    "fig = plt.figure(figsize=(15,15))\n",
    "fig.add_subplot(\"131\")\n",
    "plt.title(\"Low-res\")\n",
    "plt.imshow(patch, cmap='gray')\n",
    "\n",
    "fig.add_subplot(\"132\")\n",
    "plt.title(\"Reconstructed\")\n",
    "plt.imshow(preds, cmap='gray')\n",
    "\n",
    "fig.add_subplot(\"133\")\n",
    "plt.title(\"Ground-Truth\")\n",
    "plt.imshow(truth, cmap='gray')"
   ]
  },
  {
   "cell_type": "markdown",
   "metadata": {},
   "source": []
  },
  {
   "cell_type": "code",
   "execution_count": null,
   "metadata": {},
   "outputs": [],
   "source": []
  }
 ],
 "metadata": {
  "kernelspec": {
   "display_name": "Python 3",
   "language": "python",
   "name": "python3"
  },
  "language_info": {
   "codemirror_mode": {
    "name": "ipython",
    "version": 3
   },
   "file_extension": ".py",
   "mimetype": "text/x-python",
   "name": "python",
   "nbconvert_exporter": "python",
   "pygments_lexer": "ipython3",
   "version": "3.5.6"
  }
 },
 "nbformat": 4,
 "nbformat_minor": 2
}
